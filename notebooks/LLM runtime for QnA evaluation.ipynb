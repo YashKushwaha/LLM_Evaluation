{
 "cells": [
  {
   "cell_type": "code",
   "execution_count": 1,
   "id": "f279524e-a4f3-4762-b6ca-fe117208208e",
   "metadata": {},
   "outputs": [
    {
     "data": {
      "text/plain": [
       "'/mnt/f/LLM_Evaluation/notebooks'"
      ]
     },
     "execution_count": 1,
     "metadata": {},
     "output_type": "execute_result"
    }
   ],
   "source": [
    "pwd"
   ]
  },
  {
   "cell_type": "code",
   "execution_count": 2,
   "id": "16862ff6-4030-40f2-b731-9cccf7f11c2c",
   "metadata": {},
   "outputs": [],
   "source": [
    "import os\n",
    "import requests"
   ]
  },
  {
   "cell_type": "code",
   "execution_count": 3,
   "id": "97d1e62a-d571-4397-a8e5-755987eccbdb",
   "metadata": {},
   "outputs": [],
   "source": [
    "local_only = os.path.join(os.getcwd(), '..', 'local_only')\n",
    "local_only = os.path.abspath(local_only)"
   ]
  },
  {
   "cell_type": "code",
   "execution_count": 4,
   "id": "2da67d27-aae0-4074-9b43-4a21236f6e1f",
   "metadata": {},
   "outputs": [
    {
     "data": {
      "text/plain": [
       "'/mnt/f/LLM_Evaluation/local_only'"
      ]
     },
     "execution_count": 4,
     "metadata": {},
     "output_type": "execute_result"
    }
   ],
   "source": [
    "local_only"
   ]
  },
  {
   "cell_type": "code",
   "execution_count": 5,
   "id": "66bd7967-ae57-45e4-8ce9-52ed8821d51f",
   "metadata": {},
   "outputs": [
    {
     "name": "stderr",
     "output_type": "stream",
     "text": [
      "/root/.cache/pypoetry/virtualenvs/llm-evaluation-5n4PBOYn-py3.10/lib/python3.10/site-packages/tqdm/auto.py:21: TqdmWarning: IProgress not found. Please update jupyter and ipywidgets. See https://ipywidgets.readthedocs.io/en/stable/user_install.html\n",
      "  from .autonotebook import tqdm as notebook_tqdm\n"
     ]
    }
   ],
   "source": [
    "from datasets import load_dataset\n",
    "ds = load_dataset(\"google/boolq\", cache_dir=local_only)"
   ]
  },
  {
   "cell_type": "code",
   "execution_count": 6,
   "id": "8d70c1ec-59d5-4606-9bf1-cb13185ef744",
   "metadata": {},
   "outputs": [],
   "source": [
    "train = ds['train']"
   ]
  },
  {
   "cell_type": "code",
   "execution_count": 7,
   "id": "5b0d408b-a76c-447c-a80d-bf9e42432807",
   "metadata": {},
   "outputs": [
    {
     "data": {
      "text/plain": [
       "Dataset({\n",
       "    features: ['question', 'answer', 'passage'],\n",
       "    num_rows: 9427\n",
       "})"
      ]
     },
     "execution_count": 7,
     "metadata": {},
     "output_type": "execute_result"
    }
   ],
   "source": [
    "train"
   ]
  },
  {
   "cell_type": "code",
   "execution_count": 8,
   "id": "70d4f9da-c773-48c0-9838-25aef5540e6f",
   "metadata": {},
   "outputs": [],
   "source": [
    "train_df = train.to_pandas()"
   ]
  },
  {
   "cell_type": "code",
   "execution_count": 9,
   "id": "76c0f19f-6242-471d-97eb-cb61cde7a512",
   "metadata": {},
   "outputs": [
    {
     "data": {
      "text/html": [
       "<div>\n",
       "<style scoped>\n",
       "    .dataframe tbody tr th:only-of-type {\n",
       "        vertical-align: middle;\n",
       "    }\n",
       "\n",
       "    .dataframe tbody tr th {\n",
       "        vertical-align: top;\n",
       "    }\n",
       "\n",
       "    .dataframe thead th {\n",
       "        text-align: right;\n",
       "    }\n",
       "</style>\n",
       "<table border=\"1\" class=\"dataframe\">\n",
       "  <thead>\n",
       "    <tr style=\"text-align: right;\">\n",
       "      <th></th>\n",
       "      <th>question</th>\n",
       "      <th>answer</th>\n",
       "      <th>passage</th>\n",
       "    </tr>\n",
       "  </thead>\n",
       "  <tbody>\n",
       "    <tr>\n",
       "      <th>0</th>\n",
       "      <td>do iran and afghanistan speak the same language</td>\n",
       "      <td>True</td>\n",
       "      <td>Persian (/ˈpɜːrʒən, -ʃən/), also known by its ...</td>\n",
       "    </tr>\n",
       "    <tr>\n",
       "      <th>1</th>\n",
       "      <td>do good samaritan laws protect those who help ...</td>\n",
       "      <td>True</td>\n",
       "      <td>Good Samaritan laws offer legal protection to ...</td>\n",
       "    </tr>\n",
       "    <tr>\n",
       "      <th>2</th>\n",
       "      <td>is windows movie maker part of windows essentials</td>\n",
       "      <td>True</td>\n",
       "      <td>Windows Movie Maker (formerly known as Windows...</td>\n",
       "    </tr>\n",
       "    <tr>\n",
       "      <th>3</th>\n",
       "      <td>is confectionary sugar the same as powdered sugar</td>\n",
       "      <td>True</td>\n",
       "      <td>Powdered sugar, also called confectioners' sug...</td>\n",
       "    </tr>\n",
       "    <tr>\n",
       "      <th>4</th>\n",
       "      <td>is elder scrolls online the same as skyrim</td>\n",
       "      <td>False</td>\n",
       "      <td>As with other games in The Elder Scrolls serie...</td>\n",
       "    </tr>\n",
       "  </tbody>\n",
       "</table>\n",
       "</div>"
      ],
      "text/plain": [
       "                                            question  answer  \\\n",
       "0    do iran and afghanistan speak the same language    True   \n",
       "1  do good samaritan laws protect those who help ...    True   \n",
       "2  is windows movie maker part of windows essentials    True   \n",
       "3  is confectionary sugar the same as powdered sugar    True   \n",
       "4         is elder scrolls online the same as skyrim   False   \n",
       "\n",
       "                                             passage  \n",
       "0  Persian (/ˈpɜːrʒən, -ʃən/), also known by its ...  \n",
       "1  Good Samaritan laws offer legal protection to ...  \n",
       "2  Windows Movie Maker (formerly known as Windows...  \n",
       "3  Powdered sugar, also called confectioners' sug...  \n",
       "4  As with other games in The Elder Scrolls serie...  "
      ]
     },
     "execution_count": 9,
     "metadata": {},
     "output_type": "execute_result"
    }
   ],
   "source": [
    "train_df.head()"
   ]
  },
  {
   "cell_type": "code",
   "execution_count": 10,
   "id": "212e0834-eb55-4403-92cb-ba48a19cd113",
   "metadata": {},
   "outputs": [],
   "source": [
    "def generate_prompt(question: str, passage: str) -> str:\n",
    "    return f\"\"\"You are a helpful assistant. Given a passage, answer the question with True or False.\n",
    "\n",
    "Context: The Eiffel Tower is in Paris.\n",
    "Question: Is the Eiffel Tower located in Rome?\n",
    "Answer: False\n",
    "\n",
    "Context: {passage}\n",
    "Question: {question}\n",
    "Answer:\"\"\"\n",
    "\n",
    "import requests\n",
    "class LLM:\n",
    "    def __init__(self, url=None, model=None):\n",
    "        self.url = url or 'http://localhost:11434/api/generate'\n",
    "        self.model = model #or 'phi4:latest'\n",
    "        print(f'LLM used -> {self.model}, requests sent to URL -> {self.url}')\n",
    "    def __call__(self, prompt):\n",
    "        payload  = dict(model=self.model, prompt=prompt, stream=False)\n",
    "        response = requests.post(self.url, json = payload)\n",
    "        return response"
   ]
  },
  {
   "cell_type": "code",
   "execution_count": 11,
   "id": "7d41c6f1-b44f-4376-93da-4abdb9488724",
   "metadata": {},
   "outputs": [],
   "source": []
  },
  {
   "cell_type": "code",
   "execution_count": null,
   "id": "a962b813-0f6a-4cc1-9eff-1559b7a40fb8",
   "metadata": {},
   "outputs": [],
   "source": []
  },
  {
   "cell_type": "code",
   "execution_count": 12,
   "id": "6c3ccf5d-c52b-4027-b37d-6bcaf72fb6f8",
   "metadata": {},
   "outputs": [
    {
     "name": "stdout",
     "output_type": "stream",
     "text": [
      "LLM used -> {self.model}, requests sent to URL -> {self.url}\n"
     ]
    },
    {
     "data": {
      "text/plain": [
       "'question_1_prompt_1'"
      ]
     },
     "execution_count": 12,
     "metadata": {},
     "output_type": "execute_result"
    }
   ],
   "source": [
    "model = 'mistral_7b_instruct_v0.3_gguf:latest'\n",
    "\n",
    "llm = LLM(model=model)\n",
    "\n",
    "from pymongo import MongoClient\n",
    "from pymongo.errors import DuplicateKeyError\n",
    "\n",
    "client = MongoClient(\"mongodb://localhost:27017/\")\n",
    "db_name = model.split('_')[0]\n",
    "db = client[db_name]\n",
    "#db = client[\"test\"]\n",
    "\n",
    "collection = db[model]\n",
    "collection.create_index([(\"question\", 1), (\"prompt\", 1)], unique=True)"
   ]
  },
  {
   "cell_type": "code",
   "execution_count": 13,
   "id": "66881588-9624-441e-a405-786d564fac56",
   "metadata": {},
   "outputs": [
    {
     "name": "stdout",
     "output_type": "stream",
     "text": [
      "Num records ->  9427\n",
      "0\t5\t10\t15\t20\t25\t30\t35\t40\t45\t50\t55\t60\t65\t70\t75\t80\t85\t90\t95\t100\t105\t110\t115\t120\t125\t130\t135\t140\t145\t150\t155\t160\t165\t170\t175\t180\t185\t190\t195\t200\t205\t210\t215\t220\t225\t230\t235\t240\t245\t250\t255\t260\t265\t270\t275\t280\t285\t290\t295\t300\t305\t310\t315\t320\t325\t330\t335\t340\t345\t350\t355\t360\t365\t370\t375\t380\t385\t390\t395\t400\t405\t410\t415\t420\t425\t430\t435\t440\t445\t450\t455\t460\t465\t470\t475\t480\t485\t490\t495\t500\t505\t510\t515\t520\t525\t530\t535\t540\t545\t550\t555\t560\t565\t570\t575\t580\t585\t590\t595\t600\t605\t610\t615\t620\t625\t630\t635\t640\t645\t650\t655\t660\t665\t670\t675\t680\t685\t690\t695\t700\t705\t710\t715\t720\t725\t730\t735\t740\t745\t750\t755\t760\t765\t770\t775\t780\t785\t790\t795\t800\t805\t810\t815\t820\t825\t830\t835\t840\t845\t850\t855\t860\t865\t870\t875\t880\t885\t890\t895\t900\t905\t910\t915\t920\t925\t930\t935\t940\t945\t950\t955\t960\t965\t970\t975\t980\t985\t990\t995\t1000\t1005\t1010\t1015\t1020\t1025\t1030\t1035\t1040\t1045\t1050\t1055\t1060\t1065\t1070\t1075\t1080\t1085\t1090\t1095\t1100\t1105\t1110\t1115\t1120\t1125\t1130\t1135\t1140\t1145\t1150\t1155\t1160\t1165\t1170\t1175\t1180\t1185\t1190\t1195\t1200\t1205\t1210\t1215\t1220\t1225\t1230\t1235\t1240\t1245\t1250\t1255\t1260\t1265\t1270\t1275\t1280\t1285\t1290\t1295\t1300\t1305\t1310\t1315\t1320\t1325\t1330\t1335\t1340\t1345\t1350\t1355\t1360\t1365\t1370\t1375\t1380\t1385\t1390\t1395\t1400\t1405\t1410\t1415\t1420\t1425\t1430\t1435\t1440\t1445\t1450\t1455\t1460\t1465\t1470\t1475\t1480\t1485\t1490\t1495\t1500\t1505\t1510\t1515\t1520\t1525\t1530\t1535\t1540\t1545\t1550\t1555\t1560\t1565\t1570\t1575\t1580\t1585\t1590\t1595\t1600\t1605\t1610\t1615\t1620\t1625\t1630\t1635\t1640\t1645\t1650\t1655\t1660\t1665\t1670\t1675\t1680\t1685\t1690\t1695\t1700\t1705\t1710\t1715\t1720\t1725\t1730\t1735\t1740\t1745\t1750\t1755\t1760\t1765\t1770\t1775\t1780\t1785\t1790\t1795\t1800\t1805\t1810\t1815\t1820\t1825\t1830\t1835\t1840\t1845\t1850\t1855\t1860\t1865\t1870\t1875\t1880\t1885\t1890\t1895\t1900\t1905\t1910\t1915\t1920\t1925\t1930\t1935\t1940\t1945\t1950\t1955\t1960\t1965\t1970\t1975\t1980\t1985\t1990\t1995\t2000\t2005\t2010\t2015\t2020\t2025\t2030\t2035\t2040\t2045\t2050\t2055\t2060\t2065\t2070\t2075\t2080\t2085\t2090\t2095\t2100\t2105\t2110\t2115\t2120\t2125\t2130\t2135\t2140\t2145\t2150\t2155\t2160\t2165\t2170\t2175\t2180\t2185\t2190\t2195\t2200\t2205\t2210\t2215\t2220\t2225\t2230\t2235\t2240\t2245\t2250\t2255\t2260\t2265\t2270\t2275\t2280\t2285\t2290\t2295\t2300\t2305\t2310\t2315\t2320\t2325\t2330\t2335\t2340\t2345\t2350\t2355\t2360\t2365\t2370\t2375\t2380\t2385\t2390\t2395\t2400\t2405\t2410\t2415\t2420\t2425\t2430\t2435\t2440\t2445\t2450\t2455\t2460\t2465\t2470\t2475\t2480\t2485\t2490\t2495\t2500\t2505\t2510\t2515\t2520\t2525\t2530\t2535\t2540\t2545\t2550\t2555\t2560\t2565\t2570\t2575\t2580\t2585\t2590\t2595\t2600\t2605\t2610\t2615\t2620\t2625\t2630\t2635\t2640\t2645\t2650\t2655\t2660\t2665\t2670\t2675\t2680\t2685\t2690\t2695\t2700\t2705\t2710\t2715\t2720\t2725\t2730\t2735\t2740\t2745\t2750\t2755\t2760\t2765\t2770\t2775\t2780\t2785\t2790\t2795\t2800\t2805\t2810\t2815\t2820\t2825\t2830\t2835\t2840\t2845\t2850\t2855\t2860\t2865\t2870\t2875\t2880\t2885\t2890\t2895\t2900\t2905\t2910\t2915\t2920\t2925\t2930\t2935\t2940\t2945\t2950\t2955\t2960\t2965\t2970\t2975\t2980\t2985\t2990\t2995\t3000\t3005\t3010\t3015\t3020\t3025\t3030\t3035\t3040\t3045\t3050\t3055\t3060\t3065\t3070\t3075\t3080\t3085\t3090\t3095\t3100\t3105\t3110\t3115\t3120\t3125\t3130\t3135\t3140\t3145\t3150\t3155\t3160\t3165\t3170\t3175\t3180\t3185\t3190\t3195\t3200\t3205\t3210\t3215\t3220\t3225\t3230\t3235\t3240\t3245\t3250\t3255\t3260\t3265\t3270\t3275\t3280\t3285\t3290\t3295\t3300\t3305\t3310\t3315\t3320\t3325\t3330\t3335\t3340\t3345\t3350\t3355\t3360\t3365\t3370\t3375\t3380\t3385\t3390\t3395\t3400\t3405\t3410\t3415\t3420\t3425\t3430\t3435\t3440\t3445\t3450\t3455\t3460\t3465\t3470\t3475\t3480\t3485\t3490\t3495\t3500\t3505\t3510\t3515\t3520\t3525\t3530\t3535\t3540\t3545\t3550\t3555\t3560\t3565\t3570\t3575\t3580\t3585\t3590\t3595\t3600\t3605\t3610\t3615\t3620\t3625\t3630\t3635\t3640\t3645\t3650\t3655\t3660\t3665\t3670\t3675\t3680\t3685\t3690\t3695\t3700\t3705\t3710\t3715\t3720\t3725\t3730\t3735\t3740\t3745\t3750\t3755\t3760\t3765\t3770\t3775\t3780\t3785\t3790\t3795\t3800\t3805\t3810\t3815\t3820\t3825\t3830\t3835\t3840\t3845\t3850\t3855\t3860\t3865\t3870\t3875\t3880\t3885\t3890\t3895\t3900\t3905\t3910\t3915\t3920\t3925\t3930\t3935\t3940\t3945\t3950\t3955\t3960\t3965\t3970\t3975\t3980\t3985\t3990\t3995\t4000\t4005\t4010\t4015\t4020\t4025\t4030\t4035\t4040\t4045\t4050\t4055\t4060\t4065\t4070\t4075\t4080\t4085\t4090\t4095\t4100\t4105\t4110\t4115\t4120\t4125\t4130\t4135\t4140\t4145\t4150\t4155\t4160\t4165\t4170\t4175\t4180\t4185\t4190\t4195\t4200\t4205\t4210\t4215\t4220\t4225\t4230\t4235\t4240\t4245\t4250\t4255\t4260\t4265\t4270\t4275\t4280\t4285\t4290\t4295\t4300\t4305\t4310\t4315\t4320\t4325\t4330\t4335\t4340\t4345\t4350\t4355\t4360\t4365\t4370\t4375\t4380\t4385\t4390\t4395\t4400\t4405\t4410\t4415\t4420\t4425\t4430\t4435\t4440\t4445\t4450\t4455\t4460\t4465\t4470\t4475\t4480\t4485\t4490\t4495\t4500\t4505\t4510\t4515\t4520\t4525\t4530\t4535\t4540\t4545\t4550\t4555\t4560\t4565\t4570\t4575\t4580\t4585\t4590\t4595\t4600\t4605\t4610\t4615\t4620\t4625\t4630\t4635\t4640\t4645\t4650\t4655\t4660\t4665\t4670\t4675\t4680\t4685\t4690\t4695\t4700\t4705\t4710\t4715\t4720\t4725\t4730\t4735\t4740\t4745\t4750\t4755\t4760\t4765\t4770\t4775\t4780\t4785\t4790\t4795\t4800\t4805\t4810\t4815\t4820\t4825\t4830\t4835\t4840\t4845\t4850\t4855\t4860\t4865\t4870\t4875\t4880\t4885\t4890\t4895\t4900\t4905\t4910\t4915\t4920\t4925\t4930\t4935\t4940\t4945\t4950\t4955\t4960\t4965\t4970\t4975\t4980\t4985\t4990\t4995\t5000\t5005\t5010\t5015\t5020\t5025\t5030\t5035\t5040\t5045\t5050\t5055\t5060\t5065\t5070\t5075\t5080\t5085\t5090\t5095\t5100\t5105\t5110\t5115\t5120\t5125\t5130\t5135\t5140\t5145\t5150\t5155\t5160\t5165\t5170\t5175\t5180\t5185\t5190\t5195\t5200\t5205\t5210\t5215\t5220\t5225\t5230\t5235\t5240\t5245\t5250\t5255\t5260\t5265\t5270\t5275\t5280\t5285\t5290\t5295\t5300\t5305\t5310\t5315\t5320\t5325\t5330\t5335\t5340\t5345\t5350\t5355\t5360\t5365\t5370\t5375\t5380\t5385\t5390\t5395\t5400\t5405\t5410\t5415\t5420\t5425\t5430\t5435\t5440\t5445\t5450\t5455\t5460\t5465\t5470\t5475\t5480\t5485\t5490\t5495\t5500\t5505\t5510\t5515\t5520\t5525\t5530\t5535\t5540\t5545\t5550\t5555\t5560\t5565\t5570\t5575\t5580\t5585\t5590\t5595\t5600\t5605\t5610\t5615\t5620\t5625\t5630\t5635\t5640\t5645\t5650\t5655\t5660\t5665\t5670\t5675\t5680\t5685\t5690\t5695\t5700\t5705\t5710\t5715\t5720\t5725\t5730\t5735\t5740\t5745\t5750\t5755\t5760\t5765\t5770\t5775\t5780\t5785\t5790\t5795\t5800\t5805\t5810\t5815\t5820\t5825\t5830\t5835\t5840\t5845\t5850\t5855\t5860\t5865\t5870\t5875\t5880\t5885\t5890\t5895\t5900\t5905\t5910\t5915\t5920\t5925\t5930\t5935\t5940\t5945\t5950\t5955\t5960\t5965\t5970\t5975\t5980\t5985\t5990\t5995\t6000\t6005\t6010\t6015\t6020\t6025\t6030\t6035\t6040\t6045\t6050\t6055\t6060\t6065\t6070\t6075\t6080\t6085\t6090\t6095\t6100\t6105\t6110\t6115\t6120\t6125\t6130\t6135\t6140\t6145\t6150\t6155\t6160\t6165\t6170\t6175\t6180\t6185\t6190\t6195\t6200\t6205\t6210\t6215\t6220\t6225\t6230\t6235\t6240\t6245\t6250\t6255\t6260\t6265\t6270\t6275\t6280\t6285\t6290\t6295\t6300\t6305\t6310\t6315\t6320\t6325\t6330\t6335\t6340\t6345\t6350\t6355\t6360\t6365\t6370\t6375\t6380\t6385\t6390\t6395\t6400\t6405\t6410\t6415\t6420\t6425\t6430\t6435\t6440\t6445\t6450\t6455\t6460\t6465\t6470\t6475\t6480\t6485\t6490\t6495\t6500\t6505\t6510\t6515\t6520\t6525\t6530\t6535\t6540\t6545\t6550\t6555\t6560\t6565\t6570\t6575\t6580\t6585\t6590\t6595\t6600\t6605\t6610\t6615\t6620\t6625\t6630\t6635\t6640\t6645\t6650\t6655\t6660\t6665\t6670\t6675\t6680\t6685\t6690\t6695\t6700\t6705\t6710\t6715\t6720\t6725\t6730\t6735\t6740\t6745\t6750\t6755\t6760\t6765\t6770\t6775\t6780\t6785\t6790\t6795\t6800\t6805\t6810\t6815\t6820\t6825\t6830\t6835\t6840\t6845\t6850\t6855\t6860\t6865\t6870\t6875\t6880\t6885\t6890\t6895\t6900\t6905\t6910\t6915\t6920\t6925\t6930\t6935\t6940\t6945\t6950\t6955\t6960\t6965\t6970\t6975\t6980\t6985\t6990\t6995\t7000\t7005\t7010\t7015\t7020\t7025\t7030\t7035\t7040\t7045\t7050\t7055\t7060\t7065\t7070\t7075\t7080\t7085\t7090\t7095\t7100\t7105\t7110\t7115\t7120\t7125\t7130\t7135\t7140\t7145\t7150\t7155\t7160\t7165\t7170\t7175\t7180\t7185\t7190\t7195\t7200\t7205\t7210\t7215\t7220\t7225\t7230\t7235\t7240\t7245\t7250\t7255\t7260\t7265\t7270\t7275\t7280\t7285\t7290\t7295\t7300\t7305\t7310\t7315\t7320\t7325\t7330\t7335\t7340\t7345\t7350\t7355\t7360\t7365\t7370\t7375\t7380\t7385\t7390\t7395\t7400\t7405\t7410\t7415\t7420\t7425\t7430\t7435\t7440\t7445\t7450\t7455\t7460\t7465\t7470\t7475\t7480\t7485\t7490\t7495\t7500\t7505\t7510\t7515\t7520\t7525\t7530\t7535\t7540\t7545\t7550\t7555\t7560\t7565\t7570\t7575\t7580\t7585\t7590\t7595\t7600\t7605\t7610\t7615\t7620\t7625\t7630\t7635\t7640\t7645\t7650\t7655\t7660\t7665\t7670\t7675\t7680\t7685\t7690\t7695\t7700\t7705\t7710\t7715\t7720\t7725\t7730\t7735\t7740\t7745\t7750\t7755\t7760\t7765\t7770\t7775\t7780\t7785\t7790\t7795\t7800\t7805\t7810\t7815\t7820\t7825\t7830\t7835\t7840\t7845\t7850\t7855\t7860\t7865\t7870\t7875\t7880\t7885\t7890\t7895\t7900\t7905\t7910\t7915\t7920\t7925\t7930\t7935\t7940\t7945\t7950\t7955\t7960\t7965\t7970\t7975\t7980\t7985\t7990\t7995\t8000\t8005\t8010\t8015\t8020\t8025\t8030\t8035\t8040\t8045\t8050\t8055\t8060\t8065\t8070\t8075\t8080\t8085\t8090\t8095\t8100\t8105\t8110\t8115\t8120\t8125\t8130\t8135\t8140\t8145\t8150\t8155\t8160\t8165\t8170\t8175\t8180\t8185\t8190\t8195\t8200\t8205\t8210\t8215\t8220\t8225\t8230\t8235\t8240\t8245\t8250\t8255\t8260\t8265\t8270\t8275\t8280\t8285\t8290\t8295\t8300\t8305\t8310\t8315\t8320\t8325\t8330\t8335\t8340\t8345\t8350\t8355\t8360\t8365\t8370\t8375\t8380\t8385\t8390\t8395\t8400\t8405\t8410\t8415\t8420\t8425\t8430\t8435\t8440\t8445\t8450\t8455\t8460\t8465\t8470\t8475\t8480\t8485\t8490\t8495\t8500\t8505\t8510\t8515\t8520\t8525\t8530\t8535\t8540\t8545\t8550\t8555\t8560\t8565\t8570\t8575\t8580\t8585\t8590\t8595\t8600\t8605\t8610\t8615\t8620\t8625\t8630\t8635\t8640\t8645\t8650\t8655\t8660\t8665\t8670\t8675\t8680\t8685\t8690\t8695\t8700\t8705\t8710\t8715\t8720\t8725\t8730\t8735\t8740\t8745\t8750\t8755\t8760\t8765\t8770\t8775\t8780\t8785\t8790\t8795\t8800\t8805\t8810\t8815\t8820\t8825\t8830\t8835\t8840\t8845\t8850\t8855\t8860\t8865\t8870\t8875\t8880\t8885\t8890\t8895\t8900\t8905\t8910\t8915\t8920\t8925\t8930\t8935\t8940\t8945\t8950\t8955\t8960\t8965\t8970\t8975\t8980\t8985\t8990\t8995\t9000\t9005\t9010\t9015\t9020\t9025\t9030\t9035\t9040\t9045\t9050\t9055\t9060\t9065\t9070\t9075\t9080\t9085\t9090\t9095\t9100\t9105\t9110\t9115\t9120\t9125\t9130\t9135\t9140\t9145\t9150\t9155\t9160\t9165\t9170\t9175\t9180\t9185\t9190\t9195\t9200\t9205\t9210\t9215\t9220\t9225\t9230\t9235\t9240\t9245\t9250\t9255\t9260\t9265\t9270\t9275\t9280\t9285\t9290\t9295\t9300\t9305\t9310\t9315\t9320\t9325\t9330\t9335\t9340\t9345\t9350\t9355\t9360\t9365\t9370\t9375\t9380\t9385\t9390\t9395\t9400\t9405\t9410\t9415\t9420\t9425\tCPU times: user 15.6 s, sys: 1.87 s, total: 17.4 s\n",
      "Wall time: 1h 17min 7s\n"
     ]
    }
   ],
   "source": [
    "%%time\n",
    "print('Num records -> ', len(train_df))\n",
    "for row_num, *row in train_df.iloc[:,:].itertuples(index=True):\n",
    "    if row_num % 5 == 0:\n",
    "        print(row_num, end='\\t')\n",
    "    question,ground_truth, passage = row\n",
    "    prompt = generate_prompt(question = question, passage = passage)\n",
    "    \n",
    "    match_query = {\n",
    "        \"question\": question,\n",
    "        \"prompt\": prompt\n",
    "    }\n",
    "    \n",
    "    # Check if the result already exists\n",
    "    if collection.find_one(match_query):\n",
    "        #print(\"Already exists\", end = '\\t')\n",
    "        continue\n",
    "        \n",
    "    try:\n",
    "        llm_response = llm(prompt).json()\n",
    "        answer = llm_response['response']\n",
    "        #llm_response = 'DummyLLM called'\n",
    "    except Exception as e:\n",
    "        print(f\"Error calling LLM for row {row_num}: {e}\")\n",
    "        continue\n",
    "        \n",
    "    result = dict(question=question, prompt=prompt, llm_response=llm_response, ground_truth=ground_truth,answer=answer)\n",
    "    try:\n",
    "        collection.insert_one(result)\n",
    "    except DuplicateKeyError:\n",
    "        print(\"Duplicate detected on insert\", end='\\t')\n",
    "    except Exception as e:\n",
    "        print(f\"Insert error at row {row_num}: {e}\")"
   ]
  },
  {
   "cell_type": "markdown",
   "id": "862cffbf-fe79-4a6a-93a6-f9443aee0cc5",
   "metadata": {},
   "source": [
    "%%time\n",
    "print('Num records -> ', len(train_df))\n",
    "for row_num, *row in train_df.iloc[:100,:].itertuples(index=True):\n",
    "    if row_num % 5 == 0:\n",
    "        print(row_num, end='\\t')\n",
    "    question,ground_truth, passage = row\n",
    "    prompt = generate_prompt(question = question, passage = passage)\n",
    "    \n",
    "    match_query = {\n",
    "        \"question\": question,\n",
    "        \"prompt\": prompt\n",
    "    }\n",
    "    \n",
    "    # Check if the result already exists\n",
    "    if collection.find_one(match_query):\n",
    "        print(\"Already exists\", end = '\\t')\n",
    "        continue\n",
    "        \n",
    "    try:\n",
    "        llm_response = llm(prompt).json()['response']\n",
    "        #llm_response = 'DummyLLM called'\n",
    "    except Exception as e:\n",
    "        print(f\"Error calling LLM for row {row_num}: {e}\")\n",
    "        continue\n",
    "        \n",
    "    result = dict(question=question, prompt=prompt, llm_response=llm_response, ground_truth=ground_truth)\n",
    "    try:\n",
    "        collection.insert_one(result)\n",
    "    except DuplicateKeyError:\n",
    "        print(\"Duplicate detected on insert\", end='\\t')\n",
    "    except Exception as e:\n",
    "        print(f\"Insert error at row {row_num}: {e}\")"
   ]
  },
  {
   "cell_type": "code",
   "execution_count": 15,
   "id": "3e2b3481-81c7-4a60-b7ec-5fad1d4183ce",
   "metadata": {},
   "outputs": [
    {
     "data": {
      "text/plain": [
       "['admin', 'config', 'local', 'mistral', 'phi4']"
      ]
     },
     "execution_count": 15,
     "metadata": {},
     "output_type": "execute_result"
    }
   ],
   "source": [
    "databases = client.list_database_names()\n",
    "databases\n"
   ]
  },
  {
   "cell_type": "code",
   "execution_count": null,
   "id": "e2f189ef-7f5b-41e8-aaaf-8dd59e55cc2b",
   "metadata": {},
   "outputs": [],
   "source": []
  },
  {
   "cell_type": "code",
   "execution_count": null,
   "id": "004ee8df-e365-4f4a-8acd-501f11b9c9cb",
   "metadata": {},
   "outputs": [],
   "source": []
  },
  {
   "cell_type": "code",
   "execution_count": null,
   "id": "b66b65ce-1374-4168-b309-d55407c4b8df",
   "metadata": {},
   "outputs": [],
   "source": []
  }
 ],
 "metadata": {
  "kernelspec": {
   "display_name": "Python 3 (ipykernel)",
   "language": "python",
   "name": "python3"
  },
  "language_info": {
   "codemirror_mode": {
    "name": "ipython",
    "version": 3
   },
   "file_extension": ".py",
   "mimetype": "text/x-python",
   "name": "python",
   "nbconvert_exporter": "python",
   "pygments_lexer": "ipython3",
   "version": "3.10.12"
  }
 },
 "nbformat": 4,
 "nbformat_minor": 5
}
