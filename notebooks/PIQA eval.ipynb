{
 "cells": [
  {
   "cell_type": "code",
   "execution_count": 1,
   "id": "fcd55a16-8a94-4815-a234-0a4049d9232f",
   "metadata": {
    "scrolled": true
   },
   "outputs": [],
   "source": [
    "from pymongo import MongoClient\n",
    "client = MongoClient(\"mongodb://localhost:27017/\")"
   ]
  },
  {
   "cell_type": "code",
   "execution_count": 2,
   "id": "e4350e8f-1aa1-4f7a-963a-4c0c8df1bbdf",
   "metadata": {},
   "outputs": [
    {
     "data": {
      "text/plain": [
       "['PIQA_dev', 'admin', 'config', 'local', 'mistral', 'phi4']"
      ]
     },
     "execution_count": 2,
     "metadata": {},
     "output_type": "execute_result"
    }
   ],
   "source": [
    "databases = client.list_database_names()\n",
    "databases"
   ]
  },
  {
   "cell_type": "code",
   "execution_count": 3,
   "id": "79aa1070-b7d3-4490-8a61-11bc93a6d4e2",
   "metadata": {},
   "outputs": [],
   "source": [
    "db = client[\"PIQA_dev\"]"
   ]
  },
  {
   "cell_type": "code",
   "execution_count": 4,
   "id": "fd8f78fa-6555-4693-87ad-390034d05fc2",
   "metadata": {},
   "outputs": [
    {
     "data": {
      "text/plain": [
       "['meta_llama_3.1_8b_instruct_gguf:latest',\n",
       " 'mistral_7b_instruct_v0.3_gguf:latest']"
      ]
     },
     "execution_count": 4,
     "metadata": {},
     "output_type": "execute_result"
    }
   ],
   "source": [
    "db.list_collection_names()"
   ]
  },
  {
   "cell_type": "code",
   "execution_count": 5,
   "id": "3a824310-d31e-4385-a024-4211b9c70567",
   "metadata": {},
   "outputs": [],
   "source": [
    "collection = db[db.list_collection_names()[0]]"
   ]
  },
  {
   "cell_type": "code",
   "execution_count": 6,
   "id": "d5aba3a6-e88c-4375-a3da-731dff39f12b",
   "metadata": {},
   "outputs": [
    {
     "data": {
      "text/plain": [
       "1838"
      ]
     },
     "execution_count": 6,
     "metadata": {},
     "output_type": "execute_result"
    }
   ],
   "source": [
    "collection.count_documents({})"
   ]
  },
  {
   "cell_type": "code",
   "execution_count": 7,
   "id": "6a1af93e-4f84-45e6-b91d-57401b5bc17d",
   "metadata": {},
   "outputs": [],
   "source": [
    "docs = collection.find({})"
   ]
  },
  {
   "cell_type": "code",
   "execution_count": 8,
   "id": "ae9fc5bb-1247-4598-822e-fa56c45beb5d",
   "metadata": {
    "scrolled": true
   },
   "outputs": [],
   "source": [
    "results = [i for i in docs]"
   ]
  },
  {
   "cell_type": "code",
   "execution_count": 9,
   "id": "871656dd-1ea9-4a67-81da-626a05f897a8",
   "metadata": {},
   "outputs": [],
   "source": [
    "import pandas as pd"
   ]
  },
  {
   "cell_type": "code",
   "execution_count": 10,
   "id": "ae6c1cc9-5d37-4300-8654-901146d5d935",
   "metadata": {},
   "outputs": [],
   "source": [
    "df = pd.DataFrame(results)"
   ]
  },
  {
   "cell_type": "code",
   "execution_count": 11,
   "id": "4b429512-3bc5-4a77-9841-b4c946ba1924",
   "metadata": {},
   "outputs": [],
   "source": [
    "df['label_pred'] = df['answer'].apply(lambda x: x.strip().split()[0][0])"
   ]
  },
  {
   "cell_type": "code",
   "execution_count": 12,
   "id": "4dd77d88-1806-45f3-9f16-4344ed36099a",
   "metadata": {},
   "outputs": [
    {
     "data": {
      "text/html": [
       "<div>\n",
       "<style scoped>\n",
       "    .dataframe tbody tr th:only-of-type {\n",
       "        vertical-align: middle;\n",
       "    }\n",
       "\n",
       "    .dataframe tbody tr th {\n",
       "        vertical-align: top;\n",
       "    }\n",
       "\n",
       "    .dataframe thead th {\n",
       "        text-align: right;\n",
       "    }\n",
       "</style>\n",
       "<table border=\"1\" class=\"dataframe\">\n",
       "  <thead>\n",
       "    <tr style=\"text-align: right;\">\n",
       "      <th></th>\n",
       "      <th>_id</th>\n",
       "      <th>row_id</th>\n",
       "      <th>goal</th>\n",
       "      <th>sol1</th>\n",
       "      <th>sol2</th>\n",
       "      <th>label</th>\n",
       "      <th>prompt_template</th>\n",
       "      <th>llm_response</th>\n",
       "      <th>answer</th>\n",
       "      <th>label_pred</th>\n",
       "    </tr>\n",
       "  </thead>\n",
       "  <tbody>\n",
       "    <tr>\n",
       "      <th>0</th>\n",
       "      <td>682d849280769067f0c8443f</td>\n",
       "      <td>c36c629e-12e9-43cc-8936-e1a96d869ab0</td>\n",
       "      <td>How do I ready a guinea pig cage for it's new ...</td>\n",
       "      <td>Provide the guinea pig with a cage full of a f...</td>\n",
       "      <td>Provide the guinea pig with a cage full of a f...</td>\n",
       "      <td>0</td>\n",
       "      <td>\\nYou are given a goal and two possible ways t...</td>\n",
       "      <td>{'model': 'meta_llama_3.1_8b_instruct_gguf:lat...</td>\n",
       "      <td>A</td>\n",
       "      <td>A</td>\n",
       "    </tr>\n",
       "    <tr>\n",
       "      <th>1</th>\n",
       "      <td>682d849280769067f0c84440</td>\n",
       "      <td>fe68f9ec-09fd-436e-bcaf-07863711ec2b</td>\n",
       "      <td>dresser</td>\n",
       "      <td>replace drawer with bobby pin</td>\n",
       "      <td>finish, woodgrain with  bobby pin</td>\n",
       "      <td>1</td>\n",
       "      <td>\\nYou are given a goal and two possible ways t...</td>\n",
       "      <td>{'model': 'meta_llama_3.1_8b_instruct_gguf:lat...</td>\n",
       "      <td>B</td>\n",
       "      <td>B</td>\n",
       "    </tr>\n",
       "    <tr>\n",
       "      <th>2</th>\n",
       "      <td>682d849280769067f0c84441</td>\n",
       "      <td>d73182e6-6916-48a0-b31f-2137e350776f</td>\n",
       "      <td>To fight Ivan Drago in Rocky for sega master s...</td>\n",
       "      <td>Drago isn't in this game because it was releas...</td>\n",
       "      <td>You have to defeat Apollo Creed and Clubber La...</td>\n",
       "      <td>1</td>\n",
       "      <td>\\nYou are given a goal and two possible ways t...</td>\n",
       "      <td>{'model': 'meta_llama_3.1_8b_instruct_gguf:lat...</td>\n",
       "      <td>B</td>\n",
       "      <td>B</td>\n",
       "    </tr>\n",
       "    <tr>\n",
       "      <th>3</th>\n",
       "      <td>682d849280769067f0c84442</td>\n",
       "      <td>fe32932f-87a6-4a99-bd48-4587d0c8444b</td>\n",
       "      <td>Make outdoor pillow.</td>\n",
       "      <td>Blow into tin can and tie with rubber band.</td>\n",
       "      <td>Blow into trash bag and tie with rubber band.</td>\n",
       "      <td>1</td>\n",
       "      <td>\\nYou are given a goal and two possible ways t...</td>\n",
       "      <td>{'model': 'meta_llama_3.1_8b_instruct_gguf:lat...</td>\n",
       "      <td>A</td>\n",
       "      <td>A</td>\n",
       "    </tr>\n",
       "    <tr>\n",
       "      <th>4</th>\n",
       "      <td>682d849280769067f0c84443</td>\n",
       "      <td>1ea9030f-a902-42ce-8d22-f19c96ac17b4</td>\n",
       "      <td>ice box</td>\n",
       "      <td>will turn into a cooler if you add water to it</td>\n",
       "      <td>will turn into a cooler if you add soda to it</td>\n",
       "      <td>0</td>\n",
       "      <td>\\nYou are given a goal and two possible ways t...</td>\n",
       "      <td>{'model': 'meta_llama_3.1_8b_instruct_gguf:lat...</td>\n",
       "      <td>A</td>\n",
       "      <td>A</td>\n",
       "    </tr>\n",
       "  </tbody>\n",
       "</table>\n",
       "</div>"
      ],
      "text/plain": [
       "                        _id                                row_id  \\\n",
       "0  682d849280769067f0c8443f  c36c629e-12e9-43cc-8936-e1a96d869ab0   \n",
       "1  682d849280769067f0c84440  fe68f9ec-09fd-436e-bcaf-07863711ec2b   \n",
       "2  682d849280769067f0c84441  d73182e6-6916-48a0-b31f-2137e350776f   \n",
       "3  682d849280769067f0c84442  fe32932f-87a6-4a99-bd48-4587d0c8444b   \n",
       "4  682d849280769067f0c84443  1ea9030f-a902-42ce-8d22-f19c96ac17b4   \n",
       "\n",
       "                                                goal  \\\n",
       "0  How do I ready a guinea pig cage for it's new ...   \n",
       "1                                            dresser   \n",
       "2  To fight Ivan Drago in Rocky for sega master s...   \n",
       "3                               Make outdoor pillow.   \n",
       "4                                            ice box   \n",
       "\n",
       "                                                sol1  \\\n",
       "0  Provide the guinea pig with a cage full of a f...   \n",
       "1                     replace drawer with bobby pin    \n",
       "2  Drago isn't in this game because it was releas...   \n",
       "3        Blow into tin can and tie with rubber band.   \n",
       "4     will turn into a cooler if you add water to it   \n",
       "\n",
       "                                                sol2  label  \\\n",
       "0  Provide the guinea pig with a cage full of a f...      0   \n",
       "1                 finish, woodgrain with  bobby pin       1   \n",
       "2  You have to defeat Apollo Creed and Clubber La...      1   \n",
       "3      Blow into trash bag and tie with rubber band.      1   \n",
       "4      will turn into a cooler if you add soda to it      0   \n",
       "\n",
       "                                     prompt_template  \\\n",
       "0  \\nYou are given a goal and two possible ways t...   \n",
       "1  \\nYou are given a goal and two possible ways t...   \n",
       "2  \\nYou are given a goal and two possible ways t...   \n",
       "3  \\nYou are given a goal and two possible ways t...   \n",
       "4  \\nYou are given a goal and two possible ways t...   \n",
       "\n",
       "                                        llm_response answer label_pred  \n",
       "0  {'model': 'meta_llama_3.1_8b_instruct_gguf:lat...      A          A  \n",
       "1  {'model': 'meta_llama_3.1_8b_instruct_gguf:lat...      B          B  \n",
       "2  {'model': 'meta_llama_3.1_8b_instruct_gguf:lat...      B          B  \n",
       "3  {'model': 'meta_llama_3.1_8b_instruct_gguf:lat...      A          A  \n",
       "4  {'model': 'meta_llama_3.1_8b_instruct_gguf:lat...      A          A  "
      ]
     },
     "execution_count": 12,
     "metadata": {},
     "output_type": "execute_result"
    }
   ],
   "source": [
    "df.head()"
   ]
  },
  {
   "cell_type": "code",
   "execution_count": 13,
   "id": "a5722087-2bbe-419c-bb2e-fb63a35dd673",
   "metadata": {},
   "outputs": [],
   "source": [
    "df.loc[~df['label_pred'].isin(['A', 'B']), 'label_pred'] = 'X'"
   ]
  },
  {
   "cell_type": "code",
   "execution_count": 14,
   "id": "a0faba9a-d315-4c7d-9053-d25af51df982",
   "metadata": {},
   "outputs": [
    {
     "data": {
      "text/plain": [
       "label_pred\n",
       "B    982\n",
       "A    845\n",
       "X     11\n",
       "Name: count, dtype: int64"
      ]
     },
     "execution_count": 14,
     "metadata": {},
     "output_type": "execute_result"
    }
   ],
   "source": [
    "df['label_pred'].value_counts()"
   ]
  },
  {
   "cell_type": "code",
   "execution_count": 15,
   "id": "0583ea4c-1b99-4d69-a357-64b57ac48345",
   "metadata": {},
   "outputs": [],
   "source": [
    "df['label'] = df['label'].map({0:'A',1:'B'})"
   ]
  },
  {
   "cell_type": "code",
   "execution_count": 16,
   "id": "127220ae-10f6-49b3-ad80-8ac51b8047f8",
   "metadata": {},
   "outputs": [
    {
     "data": {
      "text/plain": [
       "label\n",
       "B    928\n",
       "A    910\n",
       "Name: count, dtype: int64"
      ]
     },
     "execution_count": 16,
     "metadata": {},
     "output_type": "execute_result"
    }
   ],
   "source": [
    "df['label'].value_counts()"
   ]
  },
  {
   "cell_type": "code",
   "execution_count": 17,
   "id": "bb33745e-24b1-4bc8-9266-9bb69c0cf6ce",
   "metadata": {},
   "outputs": [
    {
     "data": {
      "text/html": [
       "<div>\n",
       "<style scoped>\n",
       "    .dataframe tbody tr th:only-of-type {\n",
       "        vertical-align: middle;\n",
       "    }\n",
       "\n",
       "    .dataframe tbody tr th {\n",
       "        vertical-align: top;\n",
       "    }\n",
       "\n",
       "    .dataframe thead th {\n",
       "        text-align: right;\n",
       "    }\n",
       "</style>\n",
       "<table border=\"1\" class=\"dataframe\">\n",
       "  <thead>\n",
       "    <tr style=\"text-align: right;\">\n",
       "      <th>label_pred</th>\n",
       "      <th>A</th>\n",
       "      <th>B</th>\n",
       "      <th>X</th>\n",
       "    </tr>\n",
       "    <tr>\n",
       "      <th>label</th>\n",
       "      <th></th>\n",
       "      <th></th>\n",
       "      <th></th>\n",
       "    </tr>\n",
       "  </thead>\n",
       "  <tbody>\n",
       "    <tr>\n",
       "      <th>A</th>\n",
       "      <td>609</td>\n",
       "      <td>299</td>\n",
       "      <td>2</td>\n",
       "    </tr>\n",
       "    <tr>\n",
       "      <th>B</th>\n",
       "      <td>236</td>\n",
       "      <td>683</td>\n",
       "      <td>9</td>\n",
       "    </tr>\n",
       "  </tbody>\n",
       "</table>\n",
       "</div>"
      ],
      "text/plain": [
       "label_pred    A    B  X\n",
       "label                  \n",
       "A           609  299  2\n",
       "B           236  683  9"
      ]
     },
     "execution_count": 17,
     "metadata": {},
     "output_type": "execute_result"
    }
   ],
   "source": [
    "pd.crosstab(df['label'], df['label_pred'])"
   ]
  },
  {
   "cell_type": "code",
   "execution_count": 18,
   "id": "03034873-b7b6-4c63-9673-33c64896245b",
   "metadata": {},
   "outputs": [],
   "source": [
    "from sklearn.metrics import classification_report"
   ]
  },
  {
   "cell_type": "code",
   "execution_count": 19,
   "id": "d41c88cc-a575-4c38-a1f4-3852f3ddaebc",
   "metadata": {},
   "outputs": [],
   "source": [
    "report = classification_report(df['label'], df['label_pred'], labels=['A', 'B', 'X'], zero_division=0)"
   ]
  },
  {
   "cell_type": "code",
   "execution_count": 20,
   "id": "4d7b9c57-1e07-4dbc-a1c3-e036f2dad5e3",
   "metadata": {},
   "outputs": [
    {
     "name": "stdout",
     "output_type": "stream",
     "text": [
      "              precision    recall  f1-score   support\n",
      "\n",
      "           A       0.72      0.67      0.69       910\n",
      "           B       0.70      0.74      0.72       928\n",
      "           X       0.00      0.00      0.00         0\n",
      "\n",
      "    accuracy                           0.70      1838\n",
      "   macro avg       0.47      0.47      0.47      1838\n",
      "weighted avg       0.71      0.70      0.70      1838\n",
      "\n"
     ]
    }
   ],
   "source": [
    "print(report)"
   ]
  }
 ],
 "metadata": {
  "kernelspec": {
   "display_name": "Python 3 (ipykernel)",
   "language": "python",
   "name": "python3"
  },
  "language_info": {
   "codemirror_mode": {
    "name": "ipython",
    "version": 3
   },
   "file_extension": ".py",
   "mimetype": "text/x-python",
   "name": "python",
   "nbconvert_exporter": "python",
   "pygments_lexer": "ipython3",
   "version": "3.10.12"
  }
 },
 "nbformat": 4,
 "nbformat_minor": 5
}
