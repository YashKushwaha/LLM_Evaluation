{
 "cells": [
  {
   "cell_type": "code",
   "execution_count": 1,
   "id": "6dbcecfd-73aa-4b78-84b0-ff6d904d0f34",
   "metadata": {},
   "outputs": [],
   "source": [
    "import json\n",
    "import os\n",
    "\n",
    "class PIQADataset:\n",
    "    def __init__(self, data_dir, split='dev'):\n",
    "        \"\"\"\n",
    "        Args:\n",
    "            data_dir (str): Path to directory containing jsonl and .lst files.\n",
    "            split (str): 'train' or 'dev'\n",
    "        \"\"\"\n",
    "        assert split in ['train', 'dev'], \"Split must be 'train' or 'dev'\"\n",
    "        self.data_path = os.path.join(data_dir, f\"{split}.jsonl\")\n",
    "        self.label_path = os.path.join(data_dir, f\"{split}-labels.lst\")\n",
    "\n",
    "        self.data = self._load_data()\n",
    "        self.labels = self._load_labels()\n",
    "        assert len(self.data) == len(self.labels), \"Data and labels length mismatch\"\n",
    "\n",
    "    def _load_data(self):\n",
    "        with open(self.data_path, 'r', encoding='utf-8') as f:\n",
    "            return [json.loads(line) for line in f]\n",
    "\n",
    "    def _load_labels(self):\n",
    "        with open(self.label_path, 'r', encoding='utf-8') as f:\n",
    "            return [int(line.strip()) for line in f]\n",
    "\n",
    "    def __len__(self):\n",
    "        return len(self.data)\n",
    "\n",
    "    def __getitem__(self, idx):\n",
    "        item = self.data[idx]\n",
    "        label = self.labels[idx]\n",
    "        return {\n",
    "            'id': item['id'],\n",
    "            'goal': item['goal'],\n",
    "            'sol1': item['sol1'],\n",
    "            'sol2': item['sol2'],\n",
    "            'label': label  # 0 = sol1 (A), 1 = sol2 (B)\n",
    "        }\n"
   ]
  },
  {
   "cell_type": "code",
   "execution_count": 2,
   "id": "77c5db8d-2a31-4b69-8931-27bb1f75ae92",
   "metadata": {},
   "outputs": [],
   "source": [
    "import os\n",
    "import requests\n",
    "\n",
    "local_only = os.path.join(os.getcwd(), '..', 'local_only')\n",
    "local_only = os.path.abspath(local_only)"
   ]
  },
  {
   "cell_type": "code",
   "execution_count": null,
   "id": "0f6d1924-10c0-4c5c-b36d-75bcc69fbaa4",
   "metadata": {},
   "outputs": [],
   "source": []
  },
  {
   "cell_type": "code",
   "execution_count": 3,
   "id": "345d69ce-bb2f-4a86-a918-885228666d3b",
   "metadata": {},
   "outputs": [],
   "source": [
    "folder_name = 'physicaliqa-train-dev'\n",
    "data_dir = os.path.join(local_only, folder_name)"
   ]
  },
  {
   "cell_type": "code",
   "execution_count": 4,
   "id": "b543a9aa-1c7c-4c12-b158-3c9ca3ba794e",
   "metadata": {},
   "outputs": [],
   "source": [
    "split = 'dev'\n",
    "dataset = PIQADataset(data_dir=data_dir, split=split)"
   ]
  },
  {
   "cell_type": "code",
   "execution_count": 5,
   "id": "712a59ac-94e7-4d71-9de0-c42e9e785f8a",
   "metadata": {},
   "outputs": [],
   "source": [
    "prompt_template = \\\n",
    "\"\"\"\n",
    "You are given a goal and two possible ways to achieve it. Choose the option that is more physically plausible in the real world.\n",
    "\n",
    "Goal: {{goal}}\n",
    "Option A: {{sol1}}\n",
    "Option B: {{sol2}}\n",
    "\n",
    "Which option is more physically plausible? Answer with just the letter A or B:\n",
    "\n",
    "\"\"\""
   ]
  },
  {
   "cell_type": "code",
   "execution_count": 6,
   "id": "ce78ba3d-026a-41b6-9116-b2238d78d0ca",
   "metadata": {},
   "outputs": [],
   "source": [
    "from jinja2 import Template\n",
    "template = Template(prompt_template)"
   ]
  },
  {
   "cell_type": "code",
   "execution_count": 7,
   "id": "4cfa7fe6-a7f7-4982-8dd3-145d509bbeb6",
   "metadata": {},
   "outputs": [],
   "source": [
    "import requests\n",
    "class LLM:\n",
    "    def __init__(self, url=None, model=None):\n",
    "        self.url = url or 'http://localhost:11434/api/generate'\n",
    "        self.model = model #or 'phi4:latest'\n",
    "        print(f'LLM used -> {self.model}, requests sent to URL -> {self.url}')\n",
    "    def __call__(self, prompt):\n",
    "        payload  = dict(model=self.model, prompt=prompt, stream=False, temperature=0)\n",
    "        response = requests.post(self.url, json = payload)\n",
    "        return response"
   ]
  },
  {
   "cell_type": "code",
   "execution_count": 8,
   "id": "750c1fa0-f16d-4541-9048-5794e2b7bf77",
   "metadata": {},
   "outputs": [],
   "source": [
    "response  = requests.get('http://localhost:11434/api/tags')"
   ]
  },
  {
   "cell_type": "code",
   "execution_count": 9,
   "id": "64762110-dfbd-4875-ae4a-b3e3dd0aa1ac",
   "metadata": {},
   "outputs": [
    {
     "name": "stdout",
     "output_type": "stream",
     "text": [
      "phi4:latest\n",
      "stable_diffusion_3.5_medium:latest\n",
      "stable_diffusion_3.5_large:latest\n",
      "phi_4_gguf:latest\n",
      "mistral_7b_instruct_v0.3_gguf:latest\n",
      "meta_llama_3.1_8b_instruct_gguf:latest\n",
      "llava_v1.5_7b_gguf:latest\n"
     ]
    }
   ],
   "source": [
    "if response.ok:\n",
    "    llm_list = response.json()['models']\n",
    "\n",
    "for i in llm_list:\n",
    "    print(i['name'])"
   ]
  },
  {
   "cell_type": "code",
   "execution_count": 10,
   "id": "6a61a30f-72e6-4acc-a273-3c705aabde75",
   "metadata": {},
   "outputs": [
    {
     "name": "stdout",
     "output_type": "stream",
     "text": [
      "LLM used -> meta_llama_3.1_8b_instruct_gguf:latest, requests sent to URL -> http://localhost:11434/api/generate\n"
     ]
    }
   ],
   "source": [
    "model = 'meta_llama_3.1_8b_instruct_gguf:latest'\n",
    "llm = LLM(model=model)"
   ]
  },
  {
   "cell_type": "code",
   "execution_count": 11,
   "id": "d2464895-5d44-4bf4-958b-f159b3ddfa50",
   "metadata": {},
   "outputs": [
    {
     "data": {
      "text/plain": [
       "'row_id_1_prompt_template_1'"
      ]
     },
     "execution_count": 11,
     "metadata": {},
     "output_type": "execute_result"
    }
   ],
   "source": [
    "from pymongo import MongoClient\n",
    "from pymongo.errors import DuplicateKeyError\n",
    "\n",
    "client = MongoClient(\"mongodb://localhost:27017/\")\n",
    "db_name = f'PIQA_{split}'\n",
    "db = client[db_name]\n",
    "#db = client[\"test\"]\n",
    "\n",
    "collection = db[model]\n",
    "collection.create_index([(\"row_id\", 1), (\"prompt_template\",1)], unique=True)"
   ]
  },
  {
   "cell_type": "code",
   "execution_count": 12,
   "id": "3d5a0e81-7de0-4d68-a601-74d810b31820",
   "metadata": {},
   "outputs": [
    {
     "name": "stdout",
     "output_type": "stream",
     "text": [
      "CPU times: user 1 μs, sys: 0 ns, total: 1 μs\n",
      "Wall time: 2.15 μs\n"
     ]
    }
   ],
   "source": [
    "%%time\n",
    "x =5"
   ]
  },
  {
   "cell_type": "code",
   "execution_count": 13,
   "id": "e9b5638c-f767-4bf6-a990-529cc2154883",
   "metadata": {},
   "outputs": [
    {
     "name": "stdout",
     "output_type": "stream",
     "text": [
      "2025-05-21 13:15:18.658232\n"
     ]
    }
   ],
   "source": [
    "import datetime\n",
    "print(datetime.datetime.now())"
   ]
  },
  {
   "cell_type": "code",
   "execution_count": 14,
   "id": "ae19b137-215b-41e3-ade7-f75411d61f27",
   "metadata": {},
   "outputs": [
    {
     "name": "stdout",
     "output_type": "stream",
     "text": [
      "2025-05-21 13:15:18.663721\n",
      "1838\n",
      "0\t10\t20\t30\t40\t50\t60\t70\t80\t90\t100\t110\t120\t130\t140\t150\t160\t170\t180\t190\t200\t210\t220\t230\t240\t250\t260\t270\t280\t290\t300\t310\t320\t330\t340\t350\t360\t370\t380\t390\t400\t410\t420\t430\t440\t450\t460\t470\t480\t490\t500\t510\t520\t530\t540\t550\t560\t570\t580\t590\t600\t610\t620\t630\t640\t650\t660\t670\t680\t690\t700\t710\t720\t730\t740\t750\t760\t770\t780\t790\t800\t810\t820\t830\t840\t850\t860\t870\t880\t890\t900\t910\t920\t930\t940\t950\t960\t970\t980\t990\t1000\t1010\t1020\t1030\t1040\t1050\t1060\t1070\t1080\t1090\t1100\t1110\t1120\t1130\t1140\t1150\t1160\t1170\t1180\t1190\t1200\t1210\t1220\t1230\t1240\t1250\t1260\t1270\t1280\t1290\t1300\t1310\t1320\t1330\t1340\t1350\t1360\t1370\t1380\t1390\t1400\t1410\t1420\t1430\t1440\t1450\t1460\t1470\t1480\t1490\t1500\t1510\t1520\t1530\t1540\t1550\t1560\t1570\t1580\t1590\t1600\t1610\t1620\t1630\t1640\t1650\t1660\t1670\t1680\t1690\t1700\t1710\t1720\t1730\t1740\t1750\t1760\t1770\t1780\t1790\t1800\t1810\t1820\t1830\t2025-05-21 13:19:57.477838\n",
      "CPU times: user 2.53 s, sys: 214 ms, total: 2.74 s\n",
      "Wall time: 4min 38s\n"
     ]
    }
   ],
   "source": [
    "%%time\n",
    "print(datetime.datetime.now())\n",
    "print(len(dataset))\n",
    "for index, i in enumerate(dataset):\n",
    "    if index%10 == 0:\n",
    "        print(index, end='\\t')\n",
    "    row_id = i['id']\n",
    "    goal = i['goal']\n",
    "    sol1 = i['sol1']\n",
    "    sol2 = i['sol2']\n",
    "    label = i['label']\n",
    "    rendered_prompt = template.render(goal = goal, sol1=sol1, sol2=sol2)\n",
    "    llm_response = llm(rendered_prompt).json()\n",
    "    answer = llm_response['response']\n",
    "\n",
    "    record = dict(row_id=row_id, goal=goal, sol1=sol1, sol2=sol2, \n",
    "                  label=label, prompt_template=prompt_template,llm_response=llm_response, answer=answer )\n",
    "    try:\n",
    "        collection.insert_one(record)\n",
    "    except DuplicateKeyError:\n",
    "        print(\"Duplicate detected on insert\", end='\\t')\n",
    "    except Exception as e:\n",
    "        print(f\"Insert error at row {index}: {e}\")\n",
    "\n",
    "print(datetime.datetime.now())"
   ]
  }
 ],
 "metadata": {
  "kernelspec": {
   "display_name": "Python 3 (ipykernel)",
   "language": "python",
   "name": "python3"
  },
  "language_info": {
   "codemirror_mode": {
    "name": "ipython",
    "version": 3
   },
   "file_extension": ".py",
   "mimetype": "text/x-python",
   "name": "python",
   "nbconvert_exporter": "python",
   "pygments_lexer": "ipython3",
   "version": "3.10.12"
  }
 },
 "nbformat": 4,
 "nbformat_minor": 5
}
