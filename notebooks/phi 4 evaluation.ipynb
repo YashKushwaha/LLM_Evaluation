{
 "cells": [
  {
   "cell_type": "code",
   "execution_count": 38,
   "id": "fcd55a16-8a94-4815-a234-0a4049d9232f",
   "metadata": {
    "scrolled": true
   },
   "outputs": [],
   "source": [
    "from pymongo import MongoClient\n",
    "client = MongoClient(\"mongodb://localhost:27017/\")\n",
    "db = client[\"phi4\"]\n",
    "collection = db[\"phi4:latest\"]\n",
    "\n",
    "# Fetch first 10 documents\n",
    "docs = collection.find().limit(10)"
   ]
  },
  {
   "cell_type": "code",
   "execution_count": 42,
   "id": "e4350e8f-1aa1-4f7a-963a-4c0c8df1bbdf",
   "metadata": {},
   "outputs": [
    {
     "data": {
      "text/plain": [
       "['admin', 'config', 'local', 'mistral', 'phi4']"
      ]
     },
     "execution_count": 42,
     "metadata": {},
     "output_type": "execute_result"
    }
   ],
   "source": [
    "databases = client.list_database_names()\n",
    "databases"
   ]
  },
  {
   "cell_type": "code",
   "execution_count": 3,
   "id": "6a1af93e-4f84-45e6-b91d-57401b5bc17d",
   "metadata": {},
   "outputs": [],
   "source": [
    "docs = collection.find({}, {\"ground_truth\": 1, \"answer\": 1, \"_id\": 0})  # _id:0 excludes the default id field"
   ]
  },
  {
   "cell_type": "code",
   "execution_count": 4,
   "id": "ae9fc5bb-1247-4598-822e-fa56c45beb5d",
   "metadata": {},
   "outputs": [],
   "source": [
    "results = [i for i in docs]"
   ]
  },
  {
   "cell_type": "code",
   "execution_count": 5,
   "id": "871656dd-1ea9-4a67-81da-626a05f897a8",
   "metadata": {},
   "outputs": [],
   "source": [
    "import pandas as pd"
   ]
  },
  {
   "cell_type": "code",
   "execution_count": 6,
   "id": "362b35c6-ce17-4fbb-8a8e-176f50471237",
   "metadata": {},
   "outputs": [],
   "source": [
    "df = pd.DataFrame(results)\n",
    "df['pred'] = df['answer'].apply(lambda x: x.split('\\n')[0])"
   ]
  },
  {
   "cell_type": "code",
   "execution_count": 7,
   "id": "127220ae-10f6-49b3-ad80-8ac51b8047f8",
   "metadata": {},
   "outputs": [
    {
     "data": {
      "text/html": [
       "<div>\n",
       "<style scoped>\n",
       "    .dataframe tbody tr th:only-of-type {\n",
       "        vertical-align: middle;\n",
       "    }\n",
       "\n",
       "    .dataframe tbody tr th {\n",
       "        vertical-align: top;\n",
       "    }\n",
       "\n",
       "    .dataframe thead th {\n",
       "        text-align: right;\n",
       "    }\n",
       "</style>\n",
       "<table border=\"1\" class=\"dataframe\">\n",
       "  <thead>\n",
       "    <tr style=\"text-align: right;\">\n",
       "      <th></th>\n",
       "      <th>ground_truth</th>\n",
       "      <th>answer</th>\n",
       "      <th>pred</th>\n",
       "    </tr>\n",
       "  </thead>\n",
       "  <tbody>\n",
       "    <tr>\n",
       "      <th>0</th>\n",
       "      <td>True</td>\n",
       "      <td>True\\n\\nPersian (known as Farsi in Iran and Da...</td>\n",
       "      <td>True</td>\n",
       "    </tr>\n",
       "    <tr>\n",
       "      <th>1</th>\n",
       "      <td>True</td>\n",
       "      <td>True\\n\\nGood Samaritan laws are designed to pr...</td>\n",
       "      <td>True</td>\n",
       "    </tr>\n",
       "    <tr>\n",
       "      <th>2</th>\n",
       "      <td>True</td>\n",
       "      <td>True\\n\\nWindows Movie Maker is indeed part of ...</td>\n",
       "      <td>True</td>\n",
       "    </tr>\n",
       "    <tr>\n",
       "      <th>3</th>\n",
       "      <td>True</td>\n",
       "      <td>True\\n\\nIn the context provided, confectioners...</td>\n",
       "      <td>True</td>\n",
       "    </tr>\n",
       "    <tr>\n",
       "      <th>4</th>\n",
       "      <td>False</td>\n",
       "      <td>False\\n\\nThe Elder Scrolls Online (ESO) and Sk...</td>\n",
       "      <td>False</td>\n",
       "    </tr>\n",
       "  </tbody>\n",
       "</table>\n",
       "</div>"
      ],
      "text/plain": [
       "   ground_truth                                             answer   pred\n",
       "0          True  True\\n\\nPersian (known as Farsi in Iran and Da...   True\n",
       "1          True  True\\n\\nGood Samaritan laws are designed to pr...   True\n",
       "2          True  True\\n\\nWindows Movie Maker is indeed part of ...   True\n",
       "3          True  True\\n\\nIn the context provided, confectioners...   True\n",
       "4         False  False\\n\\nThe Elder Scrolls Online (ESO) and Sk...  False"
      ]
     },
     "execution_count": 7,
     "metadata": {},
     "output_type": "execute_result"
    }
   ],
   "source": [
    "df.head()"
   ]
  },
  {
   "cell_type": "code",
   "execution_count": 8,
   "id": "e6f74168-2190-4918-87cc-bf5a2e8d0171",
   "metadata": {},
   "outputs": [],
   "source": [
    "def extract_label(answer):\n",
    "    if answer.lower().startswith('true'):\n",
    "        return True\n",
    "    elif answer.lower().startswith('false'):\n",
    "        return False\n",
    "    else:\n",
    "        return None"
   ]
  },
  {
   "cell_type": "code",
   "execution_count": 9,
   "id": "bbe7bf03-3b22-462f-a927-b663890fbc4d",
   "metadata": {
    "scrolled": true
   },
   "outputs": [],
   "source": [
    "df['pred'] = df['answer'].apply(extract_label)"
   ]
  },
  {
   "cell_type": "code",
   "execution_count": 10,
   "id": "a790bb9a-85a2-4fd1-a595-53d21fef1854",
   "metadata": {},
   "outputs": [],
   "source": [
    "df['pred'] = df['pred'].fillna('UNK')"
   ]
  },
  {
   "cell_type": "code",
   "execution_count": 11,
   "id": "66ba40b7-a55b-4fb7-95be-714bdf1b4474",
   "metadata": {},
   "outputs": [
    {
     "data": {
      "text/plain": [
       "pred\n",
       "True     5528\n",
       "False    3816\n",
       "UNK        83\n",
       "Name: count, dtype: int64"
      ]
     },
     "execution_count": 11,
     "metadata": {},
     "output_type": "execute_result"
    }
   ],
   "source": [
    "df['pred'].value_counts(dropna=False)"
   ]
  },
  {
   "cell_type": "code",
   "execution_count": null,
   "id": "c6b8d77e-2afa-4354-8f4b-5448e45f2711",
   "metadata": {},
   "outputs": [],
   "source": []
  },
  {
   "cell_type": "code",
   "execution_count": 12,
   "id": "bb33745e-24b1-4bc8-9266-9bb69c0cf6ce",
   "metadata": {},
   "outputs": [
    {
     "data": {
      "text/html": [
       "<div>\n",
       "<style scoped>\n",
       "    .dataframe tbody tr th:only-of-type {\n",
       "        vertical-align: middle;\n",
       "    }\n",
       "\n",
       "    .dataframe tbody tr th {\n",
       "        vertical-align: top;\n",
       "    }\n",
       "\n",
       "    .dataframe thead th {\n",
       "        text-align: right;\n",
       "    }\n",
       "</style>\n",
       "<table border=\"1\" class=\"dataframe\">\n",
       "  <thead>\n",
       "    <tr style=\"text-align: right;\">\n",
       "      <th>ground_truth</th>\n",
       "      <th>False</th>\n",
       "      <th>True</th>\n",
       "    </tr>\n",
       "    <tr>\n",
       "      <th>pred</th>\n",
       "      <th></th>\n",
       "      <th></th>\n",
       "    </tr>\n",
       "  </thead>\n",
       "  <tbody>\n",
       "    <tr>\n",
       "      <th>False</th>\n",
       "      <td>3119</td>\n",
       "      <td>697</td>\n",
       "    </tr>\n",
       "    <tr>\n",
       "      <th>True</th>\n",
       "      <td>410</td>\n",
       "      <td>5118</td>\n",
       "    </tr>\n",
       "    <tr>\n",
       "      <th>UNK</th>\n",
       "      <td>24</td>\n",
       "      <td>59</td>\n",
       "    </tr>\n",
       "  </tbody>\n",
       "</table>\n",
       "</div>"
      ],
      "text/plain": [
       "ground_truth  False  True \n",
       "pred                      \n",
       "False          3119    697\n",
       "True            410   5118\n",
       "UNK              24     59"
      ]
     },
     "execution_count": 12,
     "metadata": {},
     "output_type": "execute_result"
    }
   ],
   "source": [
    "pd.crosstab(df['pred'], df['ground_truth'])"
   ]
  },
  {
   "cell_type": "code",
   "execution_count": 13,
   "id": "2492e339-7406-4249-b259-ed885704a1b8",
   "metadata": {},
   "outputs": [
    {
     "data": {
      "text/plain": [
       "ground_truth      bool\n",
       "answer          object\n",
       "pred            object\n",
       "dtype: object"
      ]
     },
     "execution_count": 13,
     "metadata": {},
     "output_type": "execute_result"
    }
   ],
   "source": [
    "df.dtypes"
   ]
  },
  {
   "cell_type": "code",
   "execution_count": 20,
   "id": "bbfa0351-eb5f-4532-b392-80ea6bff4752",
   "metadata": {},
   "outputs": [
    {
     "data": {
      "text/plain": [
       "pred\n",
       "True     5528\n",
       "False    3816\n",
       "UNK        83\n",
       "Name: count, dtype: int64"
      ]
     },
     "execution_count": 20,
     "metadata": {},
     "output_type": "execute_result"
    }
   ],
   "source": [
    "df['pred'].value_counts()"
   ]
  },
  {
   "cell_type": "code",
   "execution_count": 30,
   "id": "7fc957d1-7fd4-4b02-9826-8c001619d997",
   "metadata": {},
   "outputs": [],
   "source": [
    "df_filtered = df.copy()\n",
    "df_filtered = df_filtered[df_filtered['pred'].isin([True, False])].copy()\n",
    "df_filtered['pred'] = df_filtered['pred'].astype(bool)"
   ]
  },
  {
   "cell_type": "code",
   "execution_count": 31,
   "id": "36013509-55a4-4ac3-9cc5-db4817fe6c7b",
   "metadata": {},
   "outputs": [
    {
     "data": {
      "text/plain": [
       "ground_truth      bool\n",
       "answer          object\n",
       "pred              bool\n",
       "dtype: object"
      ]
     },
     "execution_count": 31,
     "metadata": {},
     "output_type": "execute_result"
    }
   ],
   "source": [
    "df_filtered.dtypes"
   ]
  },
  {
   "cell_type": "code",
   "execution_count": 32,
   "id": "1631884c-57bc-4954-8e85-89c2628422ee",
   "metadata": {},
   "outputs": [],
   "source": [
    "from sklearn.metrics import classification_report"
   ]
  },
  {
   "cell_type": "code",
   "execution_count": 33,
   "id": "6147d74d-aef6-451e-917d-0172c55f81d6",
   "metadata": {},
   "outputs": [
    {
     "data": {
      "text/plain": [
       "ground_truth\n",
       "True     5815\n",
       "False    3529\n",
       "Name: count, dtype: int64"
      ]
     },
     "execution_count": 33,
     "metadata": {},
     "output_type": "execute_result"
    }
   ],
   "source": [
    "df_filtered['ground_truth'].value_counts(dropna=False)"
   ]
  },
  {
   "cell_type": "code",
   "execution_count": 34,
   "id": "4a9e817c-9768-465c-a775-ab33bc4a2382",
   "metadata": {},
   "outputs": [
    {
     "data": {
      "text/plain": [
       "pred\n",
       "True     5528\n",
       "False    3816\n",
       "Name: count, dtype: int64"
      ]
     },
     "execution_count": 34,
     "metadata": {},
     "output_type": "execute_result"
    }
   ],
   "source": [
    "df_filtered['pred'].value_counts(dropna=False)"
   ]
  },
  {
   "cell_type": "code",
   "execution_count": 35,
   "id": "f211c6b7-4aaa-4a43-899c-a46a1b2f1407",
   "metadata": {},
   "outputs": [
    {
     "name": "stdout",
     "output_type": "stream",
     "text": [
      "              precision    recall  f1-score   support\n",
      "\n",
      "       False       0.82      0.88      0.85      3529\n",
      "        True       0.93      0.88      0.90      5815\n",
      "\n",
      "    accuracy                           0.88      9344\n",
      "   macro avg       0.87      0.88      0.88      9344\n",
      "weighted avg       0.88      0.88      0.88      9344\n",
      "\n"
     ]
    }
   ],
   "source": [
    "# Generate report\n",
    "report = classification_report(\n",
    "    y_true=df_filtered['ground_truth'],\n",
    "    y_pred=df_filtered['pred'],\n",
    "    target_names=['False', 'True'],\n",
    "    zero_division=0\n",
    ")\n",
    "print(report)"
   ]
  },
  {
   "cell_type": "code",
   "execution_count": null,
   "id": "03034873-b7b6-4c63-9673-33c64896245b",
   "metadata": {},
   "outputs": [],
   "source": []
  },
  {
   "cell_type": "code",
   "execution_count": null,
   "id": "d41c88cc-a575-4c38-a1f4-3852f3ddaebc",
   "metadata": {},
   "outputs": [],
   "source": []
  }
 ],
 "metadata": {
  "kernelspec": {
   "display_name": "Python 3 (ipykernel)",
   "language": "python",
   "name": "python3"
  },
  "language_info": {
   "codemirror_mode": {
    "name": "ipython",
    "version": 3
   },
   "file_extension": ".py",
   "mimetype": "text/x-python",
   "name": "python",
   "nbconvert_exporter": "python",
   "pygments_lexer": "ipython3",
   "version": "3.10.12"
  }
 },
 "nbformat": 4,
 "nbformat_minor": 5
}
